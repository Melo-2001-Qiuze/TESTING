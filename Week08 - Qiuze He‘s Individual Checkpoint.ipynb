{
 "cells": [
  {
   "cell_type": "markdown",
   "id": "280971ac-a881-41c0-9c1b-8e4c9aac49ad",
   "metadata": {},
   "source": [
    "# Assignment 2 - Individual Checkpoint 1. Personal data exploration literate Jupyter Notebook"
   ]
  },
  {
   "cell_type": "markdown",
   "id": "90b6d8b7-3b18-4f11-b4e1-5e8fcd179da8",
   "metadata": {},
   "source": [
    "This notebook explores the provided dataset containing step count data for three students. We will analyze the daily and minute-level step counts for each student and make observations about the data."
   ]
  },
  {
   "cell_type": "markdown",
   "id": "e18c2bda-fa10-4c6f-985a-0a04caa0dbfd",
   "metadata": {},
   "source": [
    "## Goals of the Analysis\n",
    "The goal of this data exploration is to analyze step count data for three students (student_1, student_2, and student_3) over a period of several days. Specifically, we aim to perform the following tasks:\n",
    "\n",
    "1. Determine the number of days of data available for each student.\n",
    "2. Examine daily step count information, including average, maximum, and minimum step counts.\n",
    "3. Explore minute-level step count data, looking at the number of non-zero minutes, missing data, average steps per minute, and the maximum and minimum steps in a minute.\n",
    "4. Make observations about the data for each student, including potential patterns of activity or inactivity.\n",
    "\n",
    "## Data Description and Assumptions\n",
    "The dataset provided contains step count data for three students (`student_1`, `student_2`, and `student_3`) over multiple days. Each row in the dataset represents step count information for a specific student at a particular date and time.\n",
    "\n",
    "Assumptions:\n",
    "- The step count data is collected using a wearable device or application.\n",
    "- Each student's step count data is recorded at one-hour intervals.\n",
    "- Zero-step counts may indicate inactivity during that hour.\n",
    "- Missing data points may occur due to technical issues or periods of inactivity.\n",
    "\n",
    "## Hypothesis\n",
    "Based on the goals of this analysis, we predict that we will observe variations in daily step counts among the three students. Additionally, we anticipate finding patterns of activity and inactivity at the minute level, with some students having more consistently recorded data than others."
   ]
  },
  {
   "cell_type": "code",
   "execution_count": 1,
   "id": "2ea65f6d-e27f-4a66-b309-b76150f9e8b9",
   "metadata": {},
   "outputs": [
    {
     "data": {
      "text/html": [
       "<div>\n",
       "<style scoped>\n",
       "    .dataframe tbody tr th:only-of-type {\n",
       "        vertical-align: middle;\n",
       "    }\n",
       "\n",
       "    .dataframe tbody tr th {\n",
       "        vertical-align: top;\n",
       "    }\n",
       "\n",
       "    .dataframe thead th {\n",
       "        text-align: right;\n",
       "    }\n",
       "</style>\n",
       "<table border=\"1\" class=\"dataframe\">\n",
       "  <thead>\n",
       "    <tr style=\"text-align: right;\">\n",
       "      <th></th>\n",
       "      <th>student</th>\n",
       "      <th>time</th>\n",
       "      <th>step</th>\n",
       "    </tr>\n",
       "  </thead>\n",
       "  <tbody>\n",
       "    <tr>\n",
       "      <th>56</th>\n",
       "      <td>student_1</td>\n",
       "      <td>2023/9/15 8:00</td>\n",
       "      <td>0</td>\n",
       "    </tr>\n",
       "    <tr>\n",
       "      <th>209</th>\n",
       "      <td>student_3</td>\n",
       "      <td>2023/9/15 15:00</td>\n",
       "      <td>1003</td>\n",
       "    </tr>\n",
       "    <tr>\n",
       "      <th>205</th>\n",
       "      <td>student_3</td>\n",
       "      <td>2023/9/15 11:00</td>\n",
       "      <td>1064</td>\n",
       "    </tr>\n",
       "    <tr>\n",
       "      <th>169</th>\n",
       "      <td>student_3</td>\n",
       "      <td>2023/9/13 23:00</td>\n",
       "      <td>0</td>\n",
       "    </tr>\n",
       "    <tr>\n",
       "      <th>114</th>\n",
       "      <td>student_2</td>\n",
       "      <td>2023/9/14 17:00</td>\n",
       "      <td>13</td>\n",
       "    </tr>\n",
       "  </tbody>\n",
       "</table>\n",
       "</div>"
      ],
      "text/plain": [
       "       student             time  step\n",
       "56   student_1   2023/9/15 8:00     0\n",
       "209  student_3  2023/9/15 15:00  1003\n",
       "205  student_3  2023/9/15 11:00  1064\n",
       "169  student_3  2023/9/13 23:00     0\n",
       "114  student_2  2023/9/14 17:00    13"
      ]
     },
     "execution_count": 1,
     "metadata": {},
     "output_type": "execute_result"
    }
   ],
   "source": [
    "# Import necessary libraries\n",
    "import pandas as pd\n",
    "\n",
    "# Load the dataset\n",
    "data = pd.read_csv('student_step.csv')\n",
    "\n",
    "data.sample(5)"
   ]
  },
  {
   "cell_type": "code",
   "execution_count": 2,
   "id": "9d6d3e4b-309c-4e7f-9dad-b599e11f44a7",
   "metadata": {},
   "outputs": [
    {
     "name": "stdout",
     "output_type": "stream",
     "text": [
      "<class 'pandas.core.frame.DataFrame'>\n",
      "RangeIndex: 219 entries, 0 to 218\n",
      "Data columns (total 3 columns):\n",
      " #   Column   Non-Null Count  Dtype \n",
      "---  ------   --------------  ----- \n",
      " 0   student  219 non-null    object\n",
      " 1   time     219 non-null    object\n",
      " 2   step     219 non-null    int64 \n",
      "dtypes: int64(1), object(2)\n",
      "memory usage: 5.3+ KB\n"
     ]
    }
   ],
   "source": [
    "data.info()"
   ]
  },
  {
   "cell_type": "code",
   "execution_count": 3,
   "id": "bbffb09b-4a7b-4f9c-b755-aaf1e14777ef",
   "metadata": {},
   "outputs": [
    {
     "data": {
      "text/html": [
       "<div>\n",
       "<style scoped>\n",
       "    .dataframe tbody tr th:only-of-type {\n",
       "        vertical-align: middle;\n",
       "    }\n",
       "\n",
       "    .dataframe tbody tr th {\n",
       "        vertical-align: top;\n",
       "    }\n",
       "\n",
       "    .dataframe thead th {\n",
       "        text-align: right;\n",
       "    }\n",
       "</style>\n",
       "<table border=\"1\" class=\"dataframe\">\n",
       "  <thead>\n",
       "    <tr style=\"text-align: right;\">\n",
       "      <th></th>\n",
       "      <th>step</th>\n",
       "    </tr>\n",
       "  </thead>\n",
       "  <tbody>\n",
       "    <tr>\n",
       "      <th>count</th>\n",
       "      <td>219.000000</td>\n",
       "    </tr>\n",
       "    <tr>\n",
       "      <th>mean</th>\n",
       "      <td>399.415525</td>\n",
       "    </tr>\n",
       "    <tr>\n",
       "      <th>std</th>\n",
       "      <td>716.210380</td>\n",
       "    </tr>\n",
       "    <tr>\n",
       "      <th>min</th>\n",
       "      <td>0.000000</td>\n",
       "    </tr>\n",
       "    <tr>\n",
       "      <th>25%</th>\n",
       "      <td>0.000000</td>\n",
       "    </tr>\n",
       "    <tr>\n",
       "      <th>50%</th>\n",
       "      <td>135.000000</td>\n",
       "    </tr>\n",
       "    <tr>\n",
       "      <th>75%</th>\n",
       "      <td>455.000000</td>\n",
       "    </tr>\n",
       "    <tr>\n",
       "      <th>max</th>\n",
       "      <td>4414.000000</td>\n",
       "    </tr>\n",
       "  </tbody>\n",
       "</table>\n",
       "</div>"
      ],
      "text/plain": [
       "              step\n",
       "count   219.000000\n",
       "mean    399.415525\n",
       "std     716.210380\n",
       "min       0.000000\n",
       "25%       0.000000\n",
       "50%     135.000000\n",
       "75%     455.000000\n",
       "max    4414.000000"
      ]
     },
     "execution_count": 3,
     "metadata": {},
     "output_type": "execute_result"
    }
   ],
   "source": [
    "data.describe()"
   ]
  },
  {
   "cell_type": "markdown",
   "id": "8772ed07-5843-4d5c-9780-6ff7db67e7e3",
   "metadata": {},
   "source": [
    "## Daily & Minute Step Count Information of Student 1"
   ]
  },
  {
   "cell_type": "code",
   "execution_count": 4,
   "id": "be8edadc-4321-45b3-9b74-58a9e4a0a979",
   "metadata": {},
   "outputs": [
    {
     "name": "stdout",
     "output_type": "stream",
     "text": [
      "Number of days of data for student_1: 4\n",
      "\n",
      "Daily Step Count Information for student_1:\n",
      "                  mean   max  min\n",
      "date                             \n",
      "2023-09-13  395.750000  1943    0\n",
      "2023-09-14  380.291667  1728    0\n",
      "2023-09-15   25.833333   214    0\n",
      "2023-09-16    0.000000     0    0\n",
      "\n",
      "Minute Step Count Information for student_1:\n",
      "Number of non-zero minutes: 39\n",
      "Missing data (minutes): 5687\n",
      "Average steps per minute: 263.63\n",
      "Maximum steps in a minute: 1943\n",
      "Minimum steps in a minute: 0\n"
     ]
    }
   ],
   "source": [
    "# Let's start by exploring data for student_1\n",
    "\n",
    "# ## Student 1\n",
    "# ### Number of Days of Data\n",
    "# To determine the number of days of data for student_1, we need to count unique dates in the dataset.\n",
    "\n",
    "# Extract the date from the 'time' column and convert it to datetime format\n",
    "data['date'] = pd.to_datetime(data['time']).dt.date\n",
    "\n",
    "# Calculate the number of unique days\n",
    "num_days_student_1 = data[data['student'] == 'student_1']['date'].nunique()\n",
    "\n",
    "# Display the result\n",
    "print(f\"Number of days of data for student_1: {num_days_student_1}\")\n",
    "\n",
    "# ### Daily Step Count Information\n",
    "# Now, let's calculate daily step count information for student_1.\n",
    "\n",
    "# Group the data by date and calculate daily statistics\n",
    "daily_stats_student_1 = data[data['student'] == 'student_1'].groupby('date')['step'].agg(['mean', 'max', 'min'])\n",
    "\n",
    "# Display the daily step count information\n",
    "print(\"\\nDaily Step Count Information for student_1:\")\n",
    "print(daily_stats_student_1)\n",
    "\n",
    "# One observation about the data for student_1:\n",
    "# We observe that there are days with zero steps, indicating potential missing data or days of inactivity.\n",
    "\n",
    "# ### Minute Step Count Information\n",
    "# Next, let's calculate minute step count information for student_1.\n",
    "\n",
    "# Filter data for student_1\n",
    "student_1_data = data[data['student'] == 'student_1']\n",
    "\n",
    "# Calculate the number of non-zero minutes\n",
    "non_zero_minutes_student_1 = student_1_data[student_1_data['step'] > 0]['date'].count()\n",
    "\n",
    "# Calculate missing data by subtracting the number of recorded minutes from total minutes in a day\n",
    "total_minutes_per_day = 60 * 24  # 60 minutes * 24 hours\n",
    "missing_minutes_student_1 = total_minutes_per_day * num_days_student_1 - student_1_data['date'].count()\n",
    "\n",
    "# Calculate average steps per minute\n",
    "average_steps_per_minute_student_1 = student_1_data['step'].mean()\n",
    "\n",
    "# Calculate maximum and minimum steps\n",
    "max_steps_student_1 = student_1_data['step'].max()\n",
    "min_steps_student_1 = student_1_data['step'].min()\n",
    "\n",
    "# Display minute step count information\n",
    "print(\"\\nMinute Step Count Information for student_1:\")\n",
    "print(f\"Number of non-zero minutes: {non_zero_minutes_student_1}\")\n",
    "print(f\"Missing data (minutes): {missing_minutes_student_1}\")\n",
    "print(f\"Average steps per minute: {average_steps_per_minute_student_1:.2f}\")\n",
    "print(f\"Maximum steps in a minute: {max_steps_student_1}\")\n",
    "print(f\"Minimum steps in a minute: {min_steps_student_1}\")\n",
    "\n",
    "# There are periods of inactivity with consecutive zero steps, possibly indicating moments of rest."
   ]
  },
  {
   "cell_type": "markdown",
   "id": "d4f3a48a-79d7-43ba-a491-651b90674932",
   "metadata": {},
   "source": [
    "## Daily & Minute Step Count Information of Student 2"
   ]
  },
  {
   "cell_type": "code",
   "execution_count": 5,
   "id": "199c862d-d815-48f1-8e7b-2b4195ba0674",
   "metadata": {},
   "outputs": [
    {
     "name": "stdout",
     "output_type": "stream",
     "text": [
      "\n",
      "Number of days of data for student_2: 4\n",
      "\n",
      "Daily Step Count Information for student_2:\n",
      "                  mean   max  min\n",
      "date                             \n",
      "2023-09-13  652.583333  2756    0\n",
      "2023-09-14  119.833333   647    0\n",
      "2023-09-15  505.583333  3161    0\n",
      "2023-09-16    0.000000     0    0\n",
      "\n",
      "Minute Step Count Information for student_2:\n",
      "Number of non-zero minutes: 43\n",
      "Missing data (minutes): 5687\n",
      "Average steps per minute: 420.16\n",
      "Maximum steps in a minute: 3161\n",
      "Minimum steps in a minute: 0\n"
     ]
    }
   ],
   "source": [
    "# Now, let's repeat the same exploration for student_2 and student_3.\n",
    "\n",
    "# ## Student 2\n",
    "# ### Number of Days of Data\n",
    "num_days_student_2 = data[data['student'] == 'student_2']['date'].nunique()\n",
    "\n",
    "# Display the result\n",
    "print(f\"\\nNumber of days of data for student_2: {num_days_student_2}\")\n",
    "\n",
    "# ### Daily Step Count Information\n",
    "daily_stats_student_2 = data[data['student'] == 'student_2'].groupby('date')['step'].agg(['mean', 'max', 'min'])\n",
    "\n",
    "# Display the daily step count information\n",
    "print(\"\\nDaily Step Count Information for student_2:\")\n",
    "print(daily_stats_student_2)\n",
    "\n",
    "# One observation about the data for student_2:\n",
    "# There are some days with very low step counts, possibly indicating days of inactivity.\n",
    "\n",
    "# ### Minute Step Count Information\n",
    "student_2_data = data[data['student'] == 'student_2']\n",
    "\n",
    "non_zero_minutes_student_2 = student_2_data[student_2_data['step'] > 0]['date'].count()\n",
    "\n",
    "total_minutes_per_day = 60 * 24\n",
    "missing_minutes_student_2 = total_minutes_per_day * num_days_student_2 - student_2_data['date'].count()\n",
    "\n",
    "average_steps_per_minute_student_2 = student_2_data['step'].mean()\n",
    "max_steps_student_2 = student_2_data['step'].max()\n",
    "min_steps_student_2 = student_2_data['step'].min()\n",
    "\n",
    "# Display minute step count information\n",
    "print(\"\\nMinute Step Count Information for student_2:\")\n",
    "print(f\"Number of non-zero minutes: {non_zero_minutes_student_2}\")\n",
    "print(f\"Missing data (minutes): {missing_minutes_student_2}\")\n",
    "print(f\"Average steps per minute: {average_steps_per_minute_student_2:.2f}\")\n",
    "print(f\"Maximum steps in a minute: {max_steps_student_2}\")\n",
    "print(f\"Minimum steps in a minute: {min_steps_student_2}\")\n",
    "\n",
    "# There are several minutes with zero steps, indicating short periods of inactivity."
   ]
  },
  {
   "cell_type": "markdown",
   "id": "46fb0749-00eb-4e99-a8e7-f442ea0959dd",
   "metadata": {},
   "source": [
    "## Daily & Minute Step Count Information of Student 3"
   ]
  },
  {
   "cell_type": "code",
   "execution_count": 6,
   "id": "f9e12228-efad-4d8a-a439-2f35966e75d9",
   "metadata": {},
   "outputs": [
    {
     "name": "stdout",
     "output_type": "stream",
     "text": [
      "\n",
      "Number of days of data for student_3: 4\n",
      "\n",
      "Daily Step Count Information for student_3:\n",
      "                  mean   max  min\n",
      "date                             \n",
      "2023-09-13  547.833333  3839    0\n",
      "2023-09-14  389.833333  1755    0\n",
      "2023-09-15  616.708333  4414    0\n",
      "2023-09-16  250.000000   250  250\n",
      "\n",
      "Minute Step Count Information for student_3:\n",
      "Number of non-zero minutes: 53\n",
      "Missing data (minutes): 5687\n",
      "Average steps per minute: 514.45\n",
      "Maximum steps in a minute: 4414\n",
      "Minimum steps in a minute: 0\n"
     ]
    }
   ],
   "source": [
    "# ## Student 3\n",
    "# ### Number of Days of Data\n",
    "num_days_student_3 = data[data['student'] == 'student_3']['date'].nunique()\n",
    "\n",
    "# Display the result\n",
    "print(f\"\\nNumber of days of data for student_3: {num_days_student_3}\")\n",
    "\n",
    "# ### Daily Step Count Information\n",
    "daily_stats_student_3 = data[data['student'] == 'student_3'].groupby('date')['step'].agg(['mean', 'max', 'min'])\n",
    "\n",
    "# Display the daily step count information\n",
    "print(\"\\nDaily Step Count Information for student_3:\")\n",
    "print(daily_stats_student_3)\n",
    "\n",
    "# One observation about the data for student_3:\n",
    "# There are days with very high step counts, indicating potentially active days.\n",
    "\n",
    "# ### Minute Step Count Information\n",
    "student_3_data = data[data['student'] == 'student_3']\n",
    "\n",
    "non_zero_minutes_student_3 = student_3_data[student_3_data['step'] > 0]['date'].count()\n",
    "\n",
    "total_minutes_per_day = 60 * 24\n",
    "missing_minutes_student_3 = total_minutes_per_day * num_days_student_3 - student_3_data['date'].count()\n",
    "\n",
    "average_steps_per_minute_student_3 = student_3_data['step'].mean()\n",
    "max_steps_student_3 = student_3_data['step'].max()\n",
    "min_steps_student_3 = student_3_data['step'].min()\n",
    "\n",
    "# Display minute step count information\n",
    "print(\"\\nMinute Step Count Information for student_3:\")\n",
    "print(f\"Number of non-zero minutes: {non_zero_minutes_student_3}\")\n",
    "print(f\"Missing data (minutes): {missing_minutes_student_3}\")\n",
    "print(f\"Average steps per minute: {average_steps_per_minute_student_3:.2f}\")\n",
    "print(f\"Maximum steps in a minute: {max_steps_student_3}\")\n",
    "print(f\"Minimum steps in a minute: {min_steps_student_3}\")\n",
    "\n",
    "# There are days with no recorded step data, which could be due to missing data or inactivity."
   ]
  },
  {
   "cell_type": "markdown",
   "id": "01592aae-522a-4e84-a9ac-c574e3178bac",
   "metadata": {},
   "source": [
    "## Summary of Data Exploration"
   ]
  },
  {
   "cell_type": "markdown",
   "id": "7f8413b3-c47e-4ec9-a5eb-b0260a313ddc",
   "metadata": {},
   "source": [
    "From the data exploration, we have learned about the number of days with data, daily step count statistics, and minute-level step count information for each student. We have also made observations about potential missing data and patterns of activity or inactivity for each student."
   ]
  },
  {
   "cell_type": "markdown",
   "id": "bac46116-62d3-4506-a10a-6305531bde44",
   "metadata": {},
   "source": [
    "**Number of Days of Data (Period of the data)**\n",
    "\n",
    "`Student_1` has data available for three days (2023/9/13 to 2023/9/15).\n",
    "`Student_2` has data available for three days (2023/9/13 to 2023/9/15).\n",
    "`Student_3` has data available for three days (2023/9/13 to 2023/9/15)."
   ]
  },
  {
   "cell_type": "markdown",
   "id": "3d65b2ed-f3cc-4f3e-839f-eb957d621d9a",
   "metadata": {},
   "source": [
    "**Daily Step Count Information**\n",
    "\n",
    "There are variations in daily step counts among the three students. For example, `Student_1` has days with high step counts (e.g., 1943 steps) and days with low step counts (e.g., 0 steps).\n",
    "`Student_2` shows a similar pattern with varying daily step counts, including some inactive days with zero steps.\n",
    "`Student_3` exhibits a different pattern with some days having consistently high step counts (e.g., 3839 steps)."
   ]
  },
  {
   "cell_type": "markdown",
   "id": "b7dbeb8f-2208-474f-808c-7d51537a4f46",
   "metadata": {},
   "source": [
    "**Minute Step Count Information**\n",
    "\n",
    "All students have some non-zero minutes, indicating periods of activity during the recorded hours.\n",
    "Missing data is present in all three students' records, suggesting potential gaps in data collection.\n",
    "Average steps per minute vary among students, reflecting differences in activity levels.\n",
    "Maximum and minimum steps in a minute provide insights into the intensity of activity during certain intervals."
   ]
  },
  {
   "cell_type": "markdown",
   "id": "ed7b8caa-3c38-4874-ad6a-2c24bb4a1488",
   "metadata": {},
   "source": [
    "**Observations**\n",
    "\n",
    "`Student_1` has a mix of active and inactive periods throughout the recorded days.\n",
    "`Student_2` appears to have more sporadic activity patterns with some hours of high activity and long periods of inactivity.\n",
    "`Student_3` shows consistent high activity on some days but also has gaps in data collection and periods of inactivity."
   ]
  },
  {
   "cell_type": "markdown",
   "id": "1636495c-7c63-4713-9dd7-642164444195",
   "metadata": {},
   "source": [
    "## Statement about what I learnt from your data exploration and how that relates to your driving problem"
   ]
  },
  {
   "cell_type": "markdown",
   "id": "7998141f-26e9-47dc-b30b-ed6d23e9ad21",
   "metadata": {},
   "source": [
    "**Variability in Daily Step Counts:** The daily step counts of the individuals vary significantly. Some days show high activity levels, while others have very low or even zero step counts. This variability suggests that daily step count is influenced by factors beyond just morning activity.\n",
    "\n",
    "**Morning Activity Patterns:** While there is evidence of morning activity for all three students, it is not consistently high for all of them. Student_2, for example, has periods of high activity in the morning, while Student_1 and Student_3 do not consistently exhibit this pattern.\n",
    "\n",
    "**Data Gaps and Missing Values:** The data contains gaps and missing values, which could impact the analysis. These gaps make it challenging to precisely determine the relationship between morning activity and daily step count.\n",
    "\n",
    "**Variability in Minute-Level Data:** The minute-level data reveals that there are fluctuations in steps per minute throughout the day, indicating that activity levels can vary within different time intervals, including the morning.\n",
    "\n",
    "In conclusion, while morning activity may be a factor influencing daily step count, it is not the sole determinant. Daily step counts are influenced by various factors, including activity patterns throughout the entire day. To draw more definitive conclusions about the relationship between morning activity and daily step count, a more detailed and complete dataset, as well as statistical analysis, would be necessary."
   ]
  }
 ],
 "metadata": {
  "kernelspec": {
   "display_name": "Python 3 (ipykernel)",
   "language": "python",
   "name": "python3"
  },
  "language_info": {
   "codemirror_mode": {
    "name": "ipython",
    "version": 3
   },
   "file_extension": ".py",
   "mimetype": "text/x-python",
   "name": "python",
   "nbconvert_exporter": "python",
   "pygments_lexer": "ipython3",
   "version": "3.9.13"
  }
 },
 "nbformat": 4,
 "nbformat_minor": 5
}
